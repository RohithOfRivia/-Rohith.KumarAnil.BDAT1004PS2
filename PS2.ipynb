{
 "cells": [
  {
   "cell_type": "markdown",
   "id": "99d9670c",
   "metadata": {},
   "source": [
    "## Question 1\n",
    "#### Consider the following Python module:\n",
    "#### a = 0\n",
    "#### def b():\n",
    "####  global a\n",
    "####  a = c(a)\n",
    "#### def c(a):\n",
    "####  return a + 2\n",
    "#### After importing the module into the interpreter, you execute:\n",
    "#### >>> b()\n",
    "#### >>> b()\n",
    "#### >>> b()\n",
    "#### >>> a\n",
    "#### What value is displayed when the last expression (a) is evaluated? Explain your answer by indicating what happens in every executed statement.\n"
   ]
  },
  {
   "cell_type": "code",
   "execution_count": 1,
   "id": "8c29f311",
   "metadata": {},
   "outputs": [
    {
     "name": "stdout",
     "output_type": "stream",
     "text": [
      "Value of a = 6\n"
     ]
    }
   ],
   "source": [
    "a = 0\n",
    "def b():\n",
    "    global a\n",
    "    a = c(a)\n",
    "def c(a):\n",
    "    return a + 2\n",
    "\n",
    "b()\n",
    "b()\n",
    "b()\n",
    "print(f\"Value of a = {a}\")"
   ]
  },
  {
   "cell_type": "markdown",
   "id": "62f7d149",
   "metadata": {},
   "source": [
    "After we execute this block of code, a value of 6 is obtained for variable 'a'. in method b(), the variable a is outside is the function scope and is accessed using global keyword. Then, the value of a is assigned to the return value of method c(), which simply adds 2 to the initial value. Hence, when we call b() 3 times 6 is obtained as the final value of a."
   ]
  },
  {
   "cell_type": "markdown",
   "id": "d4f95c01",
   "metadata": {},
   "source": [
    "## Question 2\n",
    "\n",
    "### Function fileLength(), given to you, takes the name of a file as input and returns the length of the file: \n",
    "fileLength('midterm.py')\n",
    "284\n",
    "\n",
    ">>> fileLength('idterm.py')\n",
    "Traceback (most recent call last):\n",
    "File \"<pyshell#34>\", line 1, in <module>\n",
    "    fileLength('idterm.py')\n",
    "File \"/Users/me/midterm.py\", line 3, in fileLength\n",
    " infile = open(filename)\n",
    "FileNotFoundError: [Errno 2] No such file or directory: \n",
    "'idterm.py'\n",
    "### As shown above, if the file cannot be found by the interpreter or if it cannot be read as a text file, an exception will be raised. Modify function fileLength() so that a friendly message is printed instead:\n",
    "\n",
    ">>> fileLength('midterm.py')\n",
    "358\n",
    "    \n",
    ">>> fileLength('idterm.py')\n",
    "    \n",
    "   File idterm.py not found."
   ]
  },
  {
   "cell_type": "code",
   "execution_count": 48,
   "id": "f64ceb76",
   "metadata": {},
   "outputs": [
    {
     "name": "stdout",
     "output_type": "stream",
     "text": [
      "File idterm.py not found.\n"
     ]
    }
   ],
   "source": [
    "def file_length(file_name):\n",
    "    try:\n",
    "        file = open(file_name)   \n",
    "        contents = file.read()\n",
    "        file.close()\n",
    "        print(len(contents))\n",
    "    except:\n",
    "        print(f\"File {file_name} not found.\")\n",
    "\n",
    "\n",
    "file_length('idterm.py')"
   ]
  },
  {
   "cell_type": "markdown",
   "id": "8bb6f0b7",
   "metadata": {},
   "source": [
    "## Question 3\n",
    "\n",
    "### Write a class named Marsupial that can be used as shown below:\n",
    "\n",
    "m = Marsupial()\n",
    "\n",
    "m.put_in_pouch('doll')\n",
    "\n",
    "m.put_in_pouch('firetruck')\n",
    "\n",
    "m.put_in_pouch('kitten')\n",
    "\n",
    "m.pouch_contents()\n",
    "\n",
    "['doll', 'firetruck', 'kitten']\n",
    "\n",
    "Now write a class named Kangaroo as a subclass of Marsupial that inherits all the \n",
    "attributes of Marsupial and also:\n",
    "\n",
    "#### a. extends the Marsupial __init__ constructor to take, as input, the coordinates x and y of the Kangaroo object,\n",
    "\n",
    "#### b. supports method jump that takes number values dx and dy as input and moves the kangaroo by dx units along the x-axis and by dy units along the y\u0002axis, and\n",
    "\n",
    "#### c. overloads the __str__ operator so it behaves as shown below."
   ]
  },
  {
   "cell_type": "code",
   "execution_count": 2,
   "id": "34aeb789",
   "metadata": {},
   "outputs": [],
   "source": [
    "class Marsupial:\n",
    "    \n",
    "    def __init__(self):\n",
    "        self.bag = []\n",
    "    \n",
    "    def put_in_pouch(self, item):\n",
    "        self.bag.append(item)\n",
    "    \n",
    "    def pouch_contents(self):\n",
    "        return self.bag\n",
    "\n",
    "#Question a\n",
    "class Kangaroo(Marsupial):\n",
    "    \n",
    "    def __init__(self, x, y):\n",
    "        Marsupial.__init__(self)\n",
    "        self.x = x\n",
    "        self.y = y\n",
    "    \n",
    "    #Question b\n",
    "    def jump(self, dx, dy):\n",
    "        self.x += dx\n",
    "        self.y += dy\n",
    "    \n",
    "    #Question c\n",
    "    def __str__(self):\n",
    "        return f\"I am a Kangaroo located at coordinates ({self.x}, {self.y})\""
   ]
  },
  {
   "cell_type": "code",
   "execution_count": 24,
   "id": "dc58a9d1",
   "metadata": {},
   "outputs": [
    {
     "name": "stdout",
     "output_type": "stream",
     "text": [
      "I am a Kangaroo located at coordinates (0, 0)\n"
     ]
    },
    {
     "data": {
      "text/plain": [
       "['doll', 'firetruck', 'kitten']"
      ]
     },
     "execution_count": 24,
     "metadata": {},
     "output_type": "execute_result"
    }
   ],
   "source": [
    "k = Kangaroo(0,0)\n",
    "print(k)\n",
    "\n",
    "k.put_in_pouch('doll')\n",
    "k.put_in_pouch('firetruck')\n",
    "k.put_in_pouch('kitten')\n",
    "\n",
    "k.pouch_contents()"
   ]
  },
  {
   "cell_type": "code",
   "execution_count": 25,
   "id": "cad451be",
   "metadata": {},
   "outputs": [
    {
     "name": "stdout",
     "output_type": "stream",
     "text": [
      "I am a Kangaroo located at coordinates (3, 0)\n"
     ]
    }
   ],
   "source": [
    "k.jump(1,0)\n",
    "k.jump(1,0)\n",
    "k.jump(1,0)\n",
    "\n",
    "print(k)"
   ]
  },
  {
   "cell_type": "markdown",
   "id": "78712a5d",
   "metadata": {},
   "source": [
    "## Question 4\n",
    "\n",
    "### Write function collatz() that takes a positive integer x as input and prints the Collatz sequence starting at x. A Collatz sequence is obtained by repeatedly applying this rule to the previous number x in the sequence:\n",
    "\n",
    "x = { 𝑥/2 𝑖𝑓 𝑥 𝑖𝑠 𝑒𝑣𝑒𝑛  ,  3𝑥 + 1 𝑖𝑓 𝑥 𝑖𝑠 𝑜𝑑𝑑\n",
    "    \n",
    "### Your function should stop when the sequence gets to number 1. Your implementation must be recursive, without any loops."
   ]
  },
  {
   "cell_type": "code",
   "execution_count": 4,
   "id": "b4ddf01f",
   "metadata": {},
   "outputs": [
    {
     "name": "stdout",
     "output_type": "stream",
     "text": [
      "10\n",
      "5\n",
      "16\n",
      "8\n",
      "4\n",
      "2\n",
      "1\n"
     ]
    }
   ],
   "source": [
    "def collatz(x):\n",
    "    n = 0\n",
    "    count = 0\n",
    "    \n",
    "    print(x)\n",
    "    \n",
    "    if(x == 1):\n",
    "        return\n",
    "    \n",
    "    if(x%2 == 0):\n",
    "        collatz(int(x / 2))\n",
    "        \n",
    "    else:\n",
    "        collatz(int(3 * x) + 1)\n",
    "\n",
    "\n",
    "collatz(10)"
   ]
  },
  {
   "cell_type": "markdown",
   "id": "dd67d252",
   "metadata": {},
   "source": [
    "## Question 5\n",
    "\n",
    "### Write a recursive method binary() that takes a non-negative integer n and prints the binary representation of integer n."
   ]
  },
  {
   "cell_type": "code",
   "execution_count": 26,
   "id": "3d7b9da0",
   "metadata": {},
   "outputs": [
    {
     "name": "stdout",
     "output_type": "stream",
     "text": [
      "1001"
     ]
    }
   ],
   "source": [
    "def binary(n):\n",
    "    \n",
    "    if(n < 2):\n",
    "        print(n, end='')\n",
    "    \n",
    "    else:\n",
    "        binary(int(n / 2))\n",
    "        print(int((n % 2)), end='')      \n",
    "\n",
    "binary(9)"
   ]
  },
  {
   "cell_type": "markdown",
   "id": "7ceee08a",
   "metadata": {},
   "source": [
    "## Question 6\n",
    "\n",
    "Implement a class named HeadingParser that can be used to parse an HTML document, and retrieve and print all the headings in the document. You should implement your class as a subclass of HTMLParser, defined in Standard Library module html.parser.When fed a string containing HTML code, your class should print the headings, one per line and in the order in which they appear in the document. Each heading should be indented as follows: an h1 heading should have indentation 0, and h2 heading should have indentation 1, etc. Test your implementation using w3c.html.\n",
    "\n",
    ">>infile = open('w3c.html')\n",
    "\n",
    ">>content = infile.read()\n",
    "\n",
    ">>infile.close()\n",
    "\n",
    ">>hp = HeadingParser()\n",
    "\n",
    ">>hp.feed(content)\n",
    "\n",
    "W3C Mission \n",
    "\n",
    " Principles\n"
   ]
  },
  {
   "cell_type": "code",
   "execution_count": 11,
   "id": "f21f9da6",
   "metadata": {},
   "outputs": [
    {
     "name": "stdout",
     "output_type": "stream",
     "text": [
      " W3C Mission\n",
      " \n",
      "\t\n",
      "  Principles\n",
      "  \n",
      " \n",
      "\n",
      "\n",
      "\n"
     ]
    }
   ],
   "source": [
    "from html.parser import HTMLParser            \n",
    "\n",
    "\n",
    "\n",
    "class HeadingParser(HTMLParser):        \n",
    "  \n",
    "\n",
    "    def __init__(self):                    \n",
    "        HTMLParser.__init__(self)\n",
    "        self.indent = 0 \n",
    "       \n",
    "    \n",
    "    def handle_starttag(self, tag, attrs):                             \n",
    "        if (tag == 'h1' or tag == 'h2' or tag == 'h3' or tag == 'h4' or tag=='h5' or tag == 'h6' or tag == 'h7'):\n",
    "            self.indent += 1                                     \n",
    "        else:\n",
    "            self.indent = 0\n",
    "         \n",
    "        \n",
    "    def handle_data(self, data):\n",
    "        \n",
    "        if (self.indent and data!='\\n'):\n",
    "            print(f\"{self.indent * ' '}{data}\")\n",
    "\n",
    "\n",
    "            \n",
    "page = open('w3c.html')     \n",
    "content = str(page.read())\n",
    "parser = HeadingParser()                            \n",
    "parser.feed(content)"
   ]
  },
  {
   "cell_type": "markdown",
   "id": "999772ec",
   "metadata": {},
   "source": [
    "## Question 7\n",
    "\n",
    "#### Implement recursive function webdir() that takes as input: a URL (as a string) and non-negative integers depth and indent. Your function should visit every web page reachable from the starting URL web page in depth clicks or less, and print each web page's URL. As shown below, indentation, specified by indent, should be used to indicate the depth of a URL.\n",
    "\n",
    "\n",
    "> \n",
    "webdir('http://reed.cs.depaul.edu/lperkovic/csc242/test1.html'\n",
    ", 2, 0)\n",
    "\n",
    "http://reed.cs.depaul.edu/lperkovic/csc242/test1.html\n",
    "\n",
    " http://reed.cs.depaul.edu/lperkovic/csc242/test2.html\n",
    " \n",
    " http://reed.cs.depaul.edu/lperkovic/csc242/test4.html\n",
    " \n",
    " http://reed.cs.depaul.edu/lperkovic/csc242/test3.html\n",
    " \n",
    " http://reed.cs.depaul.edu/lperkovic/csc242/test4.html\n"
   ]
  },
  {
   "cell_type": "markdown",
   "id": "d331eddd",
   "metadata": {},
   "source": [
    "#### Refered https://stackoverflow.com/questions/6772003/python-recursive-crawling-for-urls to create the handle_starttag and webdir function"
   ]
  },
  {
   "cell_type": "code",
   "execution_count": 88,
   "id": "79c5ae59",
   "metadata": {},
   "outputs": [
    {
     "name": "stdout",
     "output_type": "stream",
     "text": [
      " http://reed.cs.depaul.edu/lperkovic/test1.html\n",
      "         http://reed.cs.depaul.edu/lperkovic/test2.html\n",
      "                 http://reed.cs.depaul.edu/lperkovic/test4.html\n",
      "         http://reed.cs.depaul.edu/lperkovic/test3.html\n",
      "                 http://reed.cs.depaul.edu/lperkovic/test4.html\n"
     ]
    }
   ],
   "source": [
    "from html.parser import HTMLParser\n",
    "from urllib.request import urlopen\n",
    "from urllib.parse import urljoin\n",
    "\n",
    "\n",
    "class Q7(HTMLParser):\n",
    "    \n",
    "\n",
    "    def __init__(self, url):\n",
    "      \n",
    "        HTMLParser.__init__(self)\n",
    "        self.url = url\n",
    "        self.links = []\n",
    "\n",
    "\n",
    "    def append(self):\n",
    "        \n",
    "        return self.links\n",
    "\n",
    "\n",
    "\n",
    "\n",
    "    def handle_starttag(self, url_tag, attributes):\n",
    "        for i in attributes:\n",
    "            joined = urljoin(self.url, i[1])\n",
    "            if joined[:4] == 'http': \n",
    "                self.links.append(joined)\n",
    "\n",
    "\n",
    "\n",
    "i = 0\n",
    "def webdir(url, depth, i):\n",
    "   \n",
    "    depth = depth - 1    \n",
    "    print(i * '  ', url)         \n",
    "    content = urlopen(url).read().decode()\n",
    "    collection = Q7(url)\n",
    "    collection.feed(content)\n",
    "    urls = collection.append()  \n",
    "    links = urls\n",
    "    i += 4\n",
    "\n",
    "    for item in links:\n",
    "        \n",
    "        if (depth < 0 or i < 0):\n",
    "            return 1\n",
    "        \n",
    "        else:\n",
    "            webdir(item, depth, i)\n",
    "\n",
    "\n",
    "webdir('http://reed.cs.depaul.edu/lperkovic/test1.html', 2, 0)"
   ]
  },
  {
   "cell_type": "markdown",
   "id": "d2ac81f2",
   "metadata": {},
   "source": [
    "## Question 8\n",
    "\n",
    "Write SQL queries on the below database table that return: \n",
    "\n",
    "a) All the temperature data.\n",
    "\n",
    "b) All the cities, but without repetition.\n",
    "\n",
    "c) All the records for India.\n",
    "\n",
    "d) All the Fall records.\n",
    "\n",
    "e) The city, country, and season for which the average rainfall is between 200 \n",
    "and 400 millimeters.\n",
    "\n",
    "f) The city and country for which the average Fall temperature is above 20 \n",
    "degrees, in increasing temperature order.\n",
    "\n",
    "g) The total annual rainfall for Cairo.\n",
    "\n",
    "h) The total rainfall for each season.\n"
   ]
  },
  {
   "cell_type": "code",
   "execution_count": 67,
   "id": "109aa3c0",
   "metadata": {},
   "outputs": [
    {
     "name": "stdout",
     "output_type": "stream",
     "text": [
      "The sql extension is already loaded. To reload it, use:\n",
      "  %reload_ext sql\n",
      " * sqlite://\n",
      "Done.\n"
     ]
    },
    {
     "data": {
      "text/plain": [
       "[]"
      ]
     },
     "execution_count": 67,
     "metadata": {},
     "output_type": "execute_result"
    }
   ],
   "source": [
    "%load_ext sql\n",
    "%sql sqlite://\n",
    "%sql CREATE TABLE Weather(City varchar(50), Country varchar(50), Season varchar(50),Temperature float, Rainfall float);"
   ]
  },
  {
   "cell_type": "code",
   "execution_count": 68,
   "id": "97a8f734",
   "metadata": {},
   "outputs": [
    {
     "name": "stdout",
     "output_type": "stream",
     "text": [
      " * sqlite://\n",
      "1 rows affected.\n",
      "1 rows affected.\n",
      "1 rows affected.\n",
      "1 rows affected.\n",
      "1 rows affected.\n",
      "1 rows affected.\n",
      "1 rows affected.\n",
      "1 rows affected.\n",
      "1 rows affected.\n",
      "1 rows affected.\n",
      "1 rows affected.\n",
      "1 rows affected.\n"
     ]
    },
    {
     "data": {
      "text/plain": [
       "[]"
      ]
     },
     "execution_count": 68,
     "metadata": {},
     "output_type": "execute_result"
    }
   ],
   "source": [
    "%%sql\n",
    "\n",
    "insert into Weather values('Mumbai','India','Winter','24.8','5.9');  \n",
    "insert into Weather values('Mumbai','India','Spring','28.4','16.2');\n",
    "insert into Weather values('Mumbai','India','Summer','27.9','1549.4');\n",
    "insert into Weather values('Mumbai','India','Fall','27.6','346.0');\n",
    "insert into Weather values('London','United Kingdom','Winter','4.2','207.7');\n",
    "insert into Weather values('London','United Kingdom','Spring','8.3','169.6');\n",
    "insert into Weather values('London','United Kingdom','Summer','15.7','157.0');\n",
    "insert into Weather values('London','United Kingdom','Fall','10.4','218.5');\n",
    "insert into Weather VALUES('Cairo','Egypt','Winter','13.6','16.5');\n",
    "insert into Weather values('Cairo','Egypt','Spring','20.7','6.5');\n",
    "insert into Weather VALUES('Cairo','Egypt','Summer','27.7','0.1');\n",
    "insert into Weather values('Cairo','Egypt','Fall','22.2','4.5');"
   ]
  },
  {
   "cell_type": "code",
   "execution_count": 69,
   "id": "977ab54f",
   "metadata": {},
   "outputs": [
    {
     "name": "stdout",
     "output_type": "stream",
     "text": [
      " * sqlite://\n",
      "Done.\n"
     ]
    },
    {
     "data": {
      "text/html": [
       "<table>\n",
       "    <tr>\n",
       "        <th>City</th>\n",
       "        <th>Country</th>\n",
       "        <th>Season</th>\n",
       "        <th>Temperature</th>\n",
       "        <th>Rainfall</th>\n",
       "    </tr>\n",
       "    <tr>\n",
       "        <td>Mumbai</td>\n",
       "        <td>India</td>\n",
       "        <td>Winter</td>\n",
       "        <td>24.8</td>\n",
       "        <td>5.9</td>\n",
       "    </tr>\n",
       "    <tr>\n",
       "        <td>Mumbai</td>\n",
       "        <td>India</td>\n",
       "        <td>Spring</td>\n",
       "        <td>28.4</td>\n",
       "        <td>16.2</td>\n",
       "    </tr>\n",
       "    <tr>\n",
       "        <td>Mumbai</td>\n",
       "        <td>India</td>\n",
       "        <td>Summer</td>\n",
       "        <td>27.9</td>\n",
       "        <td>1549.4</td>\n",
       "    </tr>\n",
       "    <tr>\n",
       "        <td>Mumbai</td>\n",
       "        <td>India</td>\n",
       "        <td>Fall</td>\n",
       "        <td>27.6</td>\n",
       "        <td>346.0</td>\n",
       "    </tr>\n",
       "    <tr>\n",
       "        <td>London</td>\n",
       "        <td>United Kingdom</td>\n",
       "        <td>Winter</td>\n",
       "        <td>4.2</td>\n",
       "        <td>207.7</td>\n",
       "    </tr>\n",
       "    <tr>\n",
       "        <td>London</td>\n",
       "        <td>United Kingdom</td>\n",
       "        <td>Spring</td>\n",
       "        <td>8.3</td>\n",
       "        <td>169.6</td>\n",
       "    </tr>\n",
       "    <tr>\n",
       "        <td>London</td>\n",
       "        <td>United Kingdom</td>\n",
       "        <td>Summer</td>\n",
       "        <td>15.7</td>\n",
       "        <td>157.0</td>\n",
       "    </tr>\n",
       "    <tr>\n",
       "        <td>London</td>\n",
       "        <td>United Kingdom</td>\n",
       "        <td>Fall</td>\n",
       "        <td>10.4</td>\n",
       "        <td>218.5</td>\n",
       "    </tr>\n",
       "    <tr>\n",
       "        <td>Cairo</td>\n",
       "        <td>Egypt</td>\n",
       "        <td>Winter</td>\n",
       "        <td>13.6</td>\n",
       "        <td>16.5</td>\n",
       "    </tr>\n",
       "    <tr>\n",
       "        <td>Cairo</td>\n",
       "        <td>Egypt</td>\n",
       "        <td>Spring</td>\n",
       "        <td>20.7</td>\n",
       "        <td>6.5</td>\n",
       "    </tr>\n",
       "    <tr>\n",
       "        <td>Cairo</td>\n",
       "        <td>Egypt</td>\n",
       "        <td>Summer</td>\n",
       "        <td>27.7</td>\n",
       "        <td>0.1</td>\n",
       "    </tr>\n",
       "    <tr>\n",
       "        <td>Cairo</td>\n",
       "        <td>Egypt</td>\n",
       "        <td>Fall</td>\n",
       "        <td>22.2</td>\n",
       "        <td>4.5</td>\n",
       "    </tr>\n",
       "</table>"
      ],
      "text/plain": [
       "[('Mumbai', 'India', 'Winter', 24.8, 5.9),\n",
       " ('Mumbai', 'India', 'Spring', 28.4, 16.2),\n",
       " ('Mumbai', 'India', 'Summer', 27.9, 1549.4),\n",
       " ('Mumbai', 'India', 'Fall', 27.6, 346.0),\n",
       " ('London', 'United Kingdom', 'Winter', 4.2, 207.7),\n",
       " ('London', 'United Kingdom', 'Spring', 8.3, 169.6),\n",
       " ('London', 'United Kingdom', 'Summer', 15.7, 157.0),\n",
       " ('London', 'United Kingdom', 'Fall', 10.4, 218.5),\n",
       " ('Cairo', 'Egypt', 'Winter', 13.6, 16.5),\n",
       " ('Cairo', 'Egypt', 'Spring', 20.7, 6.5),\n",
       " ('Cairo', 'Egypt', 'Summer', 27.7, 0.1),\n",
       " ('Cairo', 'Egypt', 'Fall', 22.2, 4.5)]"
      ]
     },
     "execution_count": 69,
     "metadata": {},
     "output_type": "execute_result"
    }
   ],
   "source": [
    "%sql select * from Weather"
   ]
  },
  {
   "cell_type": "markdown",
   "id": "a9760628",
   "metadata": {},
   "source": [
    "a) All the temperature data."
   ]
  },
  {
   "cell_type": "code",
   "execution_count": 70,
   "id": "381886ab",
   "metadata": {},
   "outputs": [
    {
     "name": "stdout",
     "output_type": "stream",
     "text": [
      " * sqlite://\n",
      "Done.\n"
     ]
    },
    {
     "data": {
      "text/html": [
       "<table>\n",
       "    <tr>\n",
       "        <th>Temperature</th>\n",
       "    </tr>\n",
       "    <tr>\n",
       "        <td>24.8</td>\n",
       "    </tr>\n",
       "    <tr>\n",
       "        <td>28.4</td>\n",
       "    </tr>\n",
       "    <tr>\n",
       "        <td>27.9</td>\n",
       "    </tr>\n",
       "    <tr>\n",
       "        <td>27.6</td>\n",
       "    </tr>\n",
       "    <tr>\n",
       "        <td>4.2</td>\n",
       "    </tr>\n",
       "    <tr>\n",
       "        <td>8.3</td>\n",
       "    </tr>\n",
       "    <tr>\n",
       "        <td>15.7</td>\n",
       "    </tr>\n",
       "    <tr>\n",
       "        <td>10.4</td>\n",
       "    </tr>\n",
       "    <tr>\n",
       "        <td>13.6</td>\n",
       "    </tr>\n",
       "    <tr>\n",
       "        <td>20.7</td>\n",
       "    </tr>\n",
       "    <tr>\n",
       "        <td>27.7</td>\n",
       "    </tr>\n",
       "    <tr>\n",
       "        <td>22.2</td>\n",
       "    </tr>\n",
       "</table>"
      ],
      "text/plain": [
       "[(24.8,),\n",
       " (28.4,),\n",
       " (27.9,),\n",
       " (27.6,),\n",
       " (4.2,),\n",
       " (8.3,),\n",
       " (15.7,),\n",
       " (10.4,),\n",
       " (13.6,),\n",
       " (20.7,),\n",
       " (27.7,),\n",
       " (22.2,)]"
      ]
     },
     "execution_count": 70,
     "metadata": {},
     "output_type": "execute_result"
    }
   ],
   "source": [
    "%sql select temperature from Weather"
   ]
  },
  {
   "cell_type": "markdown",
   "id": "3e1e9ca8",
   "metadata": {},
   "source": [
    "b) All the cities, but without repetition."
   ]
  },
  {
   "cell_type": "code",
   "execution_count": 71,
   "id": "19b77bca",
   "metadata": {},
   "outputs": [
    {
     "name": "stdout",
     "output_type": "stream",
     "text": [
      " * sqlite://\n",
      "Done.\n"
     ]
    },
    {
     "data": {
      "text/html": [
       "<table>\n",
       "    <tr>\n",
       "        <th>City</th>\n",
       "    </tr>\n",
       "    <tr>\n",
       "        <td>Mumbai</td>\n",
       "    </tr>\n",
       "    <tr>\n",
       "        <td>London</td>\n",
       "    </tr>\n",
       "    <tr>\n",
       "        <td>Cairo</td>\n",
       "    </tr>\n",
       "</table>"
      ],
      "text/plain": [
       "[('Mumbai',), ('London',), ('Cairo',)]"
      ]
     },
     "execution_count": 71,
     "metadata": {},
     "output_type": "execute_result"
    }
   ],
   "source": [
    "%sql select distinct city from Weather"
   ]
  },
  {
   "cell_type": "markdown",
   "id": "6e9658ea",
   "metadata": {},
   "source": [
    "c) All the records for India."
   ]
  },
  {
   "cell_type": "code",
   "execution_count": 72,
   "id": "86f226b5",
   "metadata": {},
   "outputs": [
    {
     "name": "stdout",
     "output_type": "stream",
     "text": [
      " * sqlite://\n",
      "Done.\n"
     ]
    },
    {
     "data": {
      "text/html": [
       "<table>\n",
       "    <tr>\n",
       "        <th>City</th>\n",
       "        <th>Country</th>\n",
       "        <th>Season</th>\n",
       "        <th>Temperature</th>\n",
       "        <th>Rainfall</th>\n",
       "    </tr>\n",
       "    <tr>\n",
       "        <td>Mumbai</td>\n",
       "        <td>India</td>\n",
       "        <td>Winter</td>\n",
       "        <td>24.8</td>\n",
       "        <td>5.9</td>\n",
       "    </tr>\n",
       "    <tr>\n",
       "        <td>Mumbai</td>\n",
       "        <td>India</td>\n",
       "        <td>Spring</td>\n",
       "        <td>28.4</td>\n",
       "        <td>16.2</td>\n",
       "    </tr>\n",
       "    <tr>\n",
       "        <td>Mumbai</td>\n",
       "        <td>India</td>\n",
       "        <td>Summer</td>\n",
       "        <td>27.9</td>\n",
       "        <td>1549.4</td>\n",
       "    </tr>\n",
       "    <tr>\n",
       "        <td>Mumbai</td>\n",
       "        <td>India</td>\n",
       "        <td>Fall</td>\n",
       "        <td>27.6</td>\n",
       "        <td>346.0</td>\n",
       "    </tr>\n",
       "</table>"
      ],
      "text/plain": [
       "[('Mumbai', 'India', 'Winter', 24.8, 5.9),\n",
       " ('Mumbai', 'India', 'Spring', 28.4, 16.2),\n",
       " ('Mumbai', 'India', 'Summer', 27.9, 1549.4),\n",
       " ('Mumbai', 'India', 'Fall', 27.6, 346.0)]"
      ]
     },
     "execution_count": 72,
     "metadata": {},
     "output_type": "execute_result"
    }
   ],
   "source": [
    "%sql select * from Weather where Country='India'"
   ]
  },
  {
   "cell_type": "markdown",
   "id": "cbc7e9ed",
   "metadata": {},
   "source": [
    "d) All the Fall records."
   ]
  },
  {
   "cell_type": "code",
   "execution_count": 73,
   "id": "1a978a72",
   "metadata": {},
   "outputs": [
    {
     "name": "stdout",
     "output_type": "stream",
     "text": [
      " * sqlite://\n",
      "Done.\n"
     ]
    },
    {
     "data": {
      "text/html": [
       "<table>\n",
       "    <tr>\n",
       "        <th>City</th>\n",
       "        <th>Country</th>\n",
       "        <th>Season</th>\n",
       "        <th>Temperature</th>\n",
       "        <th>Rainfall</th>\n",
       "    </tr>\n",
       "    <tr>\n",
       "        <td>Mumbai</td>\n",
       "        <td>India</td>\n",
       "        <td>Fall</td>\n",
       "        <td>27.6</td>\n",
       "        <td>346.0</td>\n",
       "    </tr>\n",
       "    <tr>\n",
       "        <td>London</td>\n",
       "        <td>United Kingdom</td>\n",
       "        <td>Fall</td>\n",
       "        <td>10.4</td>\n",
       "        <td>218.5</td>\n",
       "    </tr>\n",
       "    <tr>\n",
       "        <td>Cairo</td>\n",
       "        <td>Egypt</td>\n",
       "        <td>Fall</td>\n",
       "        <td>22.2</td>\n",
       "        <td>4.5</td>\n",
       "    </tr>\n",
       "</table>"
      ],
      "text/plain": [
       "[('Mumbai', 'India', 'Fall', 27.6, 346.0),\n",
       " ('London', 'United Kingdom', 'Fall', 10.4, 218.5),\n",
       " ('Cairo', 'Egypt', 'Fall', 22.2, 4.5)]"
      ]
     },
     "execution_count": 73,
     "metadata": {},
     "output_type": "execute_result"
    }
   ],
   "source": [
    "%sql select * from Weather where Season='Fall'"
   ]
  },
  {
   "cell_type": "markdown",
   "id": "260303df",
   "metadata": {},
   "source": [
    "e) The city, country, and season for which the average rainfall is between 200 \n",
    "and 400 millimeters."
   ]
  },
  {
   "cell_type": "code",
   "execution_count": 74,
   "id": "ab761e4f",
   "metadata": {},
   "outputs": [
    {
     "name": "stdout",
     "output_type": "stream",
     "text": [
      " * sqlite://\n",
      "Done.\n"
     ]
    },
    {
     "data": {
      "text/html": [
       "<table>\n",
       "    <tr>\n",
       "        <th>City</th>\n",
       "        <th>Country</th>\n",
       "        <th>Season</th>\n",
       "    </tr>\n",
       "    <tr>\n",
       "        <td>Mumbai</td>\n",
       "        <td>India</td>\n",
       "        <td>Fall</td>\n",
       "    </tr>\n",
       "    <tr>\n",
       "        <td>London</td>\n",
       "        <td>United Kingdom</td>\n",
       "        <td>Winter</td>\n",
       "    </tr>\n",
       "    <tr>\n",
       "        <td>London</td>\n",
       "        <td>United Kingdom</td>\n",
       "        <td>Fall</td>\n",
       "    </tr>\n",
       "</table>"
      ],
      "text/plain": [
       "[('Mumbai', 'India', 'Fall'),\n",
       " ('London', 'United Kingdom', 'Winter'),\n",
       " ('London', 'United Kingdom', 'Fall')]"
      ]
     },
     "execution_count": 74,
     "metadata": {},
     "output_type": "execute_result"
    }
   ],
   "source": [
    "%sql select City, Country, Season from Weather where Rainfall between 200 and 400"
   ]
  },
  {
   "cell_type": "markdown",
   "id": "61d30778",
   "metadata": {},
   "source": [
    "f) The city and country for which the average Fall temperature is above 20 \n",
    "degrees, in increasing temperature order."
   ]
  },
  {
   "cell_type": "code",
   "execution_count": 75,
   "id": "e0688ee4",
   "metadata": {},
   "outputs": [
    {
     "name": "stdout",
     "output_type": "stream",
     "text": [
      " * sqlite://\n",
      "Done.\n"
     ]
    },
    {
     "data": {
      "text/html": [
       "<table>\n",
       "    <tr>\n",
       "        <th>City</th>\n",
       "        <th>Country</th>\n",
       "    </tr>\n",
       "    <tr>\n",
       "        <td>Cairo</td>\n",
       "        <td>Egypt</td>\n",
       "    </tr>\n",
       "    <tr>\n",
       "        <td>Mumbai</td>\n",
       "        <td>India</td>\n",
       "    </tr>\n",
       "</table>"
      ],
      "text/plain": [
       "[('Cairo', 'Egypt'), ('Mumbai', 'India')]"
      ]
     },
     "execution_count": 75,
     "metadata": {},
     "output_type": "execute_result"
    }
   ],
   "source": [
    "%sql select City, Country from Weather where Season = 'Fall' and Temperature > 20 order by Temperature asc"
   ]
  },
  {
   "cell_type": "markdown",
   "id": "3a052bf6",
   "metadata": {},
   "source": [
    "g) The total annual rainfall for Cairo"
   ]
  },
  {
   "cell_type": "code",
   "execution_count": 76,
   "id": "07c225f7",
   "metadata": {},
   "outputs": [
    {
     "name": "stdout",
     "output_type": "stream",
     "text": [
      " * sqlite://\n",
      "Done.\n"
     ]
    },
    {
     "data": {
      "text/html": [
       "<table>\n",
       "    <tr>\n",
       "        <th>totalRainfall</th>\n",
       "    </tr>\n",
       "    <tr>\n",
       "        <td>27.6</td>\n",
       "    </tr>\n",
       "</table>"
      ],
      "text/plain": [
       "[(27.6,)]"
      ]
     },
     "execution_count": 76,
     "metadata": {},
     "output_type": "execute_result"
    }
   ],
   "source": [
    "%sql select sum(Rainfall) as totalRainfall from Weather where City = 'Cairo'"
   ]
  },
  {
   "cell_type": "markdown",
   "id": "43a9de01",
   "metadata": {},
   "source": [
    "h) The total rainfall for each season."
   ]
  },
  {
   "cell_type": "code",
   "execution_count": 82,
   "id": "ad807038",
   "metadata": {},
   "outputs": [
    {
     "name": "stdout",
     "output_type": "stream",
     "text": [
      " * sqlite://\n",
      "Done.\n"
     ]
    },
    {
     "data": {
      "text/html": [
       "<table>\n",
       "    <tr>\n",
       "        <th>Season</th>\n",
       "        <th>totalRainfall</th>\n",
       "    </tr>\n",
       "    <tr>\n",
       "        <td>Fall</td>\n",
       "        <td>569.0</td>\n",
       "    </tr>\n",
       "    <tr>\n",
       "        <td>Spring</td>\n",
       "        <td>192.0</td>\n",
       "    </tr>\n",
       "    <tr>\n",
       "        <td>Summer</td>\n",
       "        <td>1707.0</td>\n",
       "    </tr>\n",
       "    <tr>\n",
       "        <td>Winter</td>\n",
       "        <td>230.0</td>\n",
       "    </tr>\n",
       "</table>"
      ],
      "text/plain": [
       "[('Fall', 569.0), ('Spring', 192.0), ('Summer', 1707.0), ('Winter', 230.0)]"
      ]
     },
     "execution_count": 82,
     "metadata": {},
     "output_type": "execute_result"
    }
   ],
   "source": [
    "#Used round function because one of the value looked very big\n",
    "\n",
    "%sql select Season, round(sum(Rainfall)) as totalRainfall from Weather group by season"
   ]
  },
  {
   "cell_type": "markdown",
   "id": "8a49faf4",
   "metadata": {},
   "source": [
    "## Question 9\n",
    "\n",
    "#### . Suppose list words is defined as follows:\n",
    "\n",
    "words = ['The', 'quick', 'brown', 'fox', 'jumps', 'over', \n",
    "'the', 'lazy', 'dog']\n",
    "\n",
    "Write list comprehension expressions that use list words and generate the following \n",
    "lists:"
   ]
  },
  {
   "cell_type": "markdown",
   "id": "99695037",
   "metadata": {},
   "source": [
    "a) ['THE', 'QUICK', 'BROWN', 'FOX', 'JUMPS', 'OVER', 'THE', \n",
    "'LAZY', 'DOG']"
   ]
  },
  {
   "cell_type": "code",
   "execution_count": 9,
   "id": "310484d8",
   "metadata": {},
   "outputs": [
    {
     "name": "stdout",
     "output_type": "stream",
     "text": [
      "['THE', 'QUICK', 'BROWN', 'FOX', 'JUMPS', 'OVER', 'THE', 'LAZY', 'DOG']\n"
     ]
    }
   ],
   "source": [
    "words = ['The', 'quick', 'brown', 'fox', 'jumps', 'over','the', 'lazy', 'dog']\n",
    "\n",
    "answer = [ word.upper() for word in words ]\n",
    "print(answer)"
   ]
  },
  {
   "cell_type": "markdown",
   "id": "4000b48c",
   "metadata": {},
   "source": [
    "b) ['the', 'quick', 'brown', 'fox', 'jumps', 'over', 'the', \n",
    "'lazy', 'dog']"
   ]
  },
  {
   "cell_type": "code",
   "execution_count": 10,
   "id": "349f20aa",
   "metadata": {},
   "outputs": [
    {
     "name": "stdout",
     "output_type": "stream",
     "text": [
      "['The', 'quick', 'brown', 'fox', 'jumps', 'over', 'the', 'lazy', 'dog']\n"
     ]
    }
   ],
   "source": [
    "words = ['The', 'quick', 'brown', 'fox', 'jumps', 'over','the', 'lazy', 'dog']\n",
    "\n",
    "answer = [ word for word in words ]\n",
    "print(answer)"
   ]
  },
  {
   "cell_type": "markdown",
   "id": "19048903",
   "metadata": {},
   "source": [
    "c) [3, 5, 5, 3, 5, 4, 3, 4, 3] (the list of lengths of words in list \n",
    "words)."
   ]
  },
  {
   "cell_type": "code",
   "execution_count": 11,
   "id": "36eb7afe",
   "metadata": {},
   "outputs": [
    {
     "name": "stdout",
     "output_type": "stream",
     "text": [
      "[3, 5, 5, 3, 5, 4, 3, 4, 3]\n"
     ]
    }
   ],
   "source": [
    "words = ['The', 'quick', 'brown', 'fox', 'jumps', 'over','the', 'lazy', 'dog']\n",
    "\n",
    "answer = [ len(word) for word in words ]\n",
    "print(answer)"
   ]
  },
  {
   "cell_type": "markdown",
   "id": "0f066640",
   "metadata": {},
   "source": [
    "d) [['THE', 'the', 3], ['QUICK', 'quick', 5], ['BROWN', \n",
    "'brown', 5], ['FOX', 'fox', 3], ['JUMPS', 'jumps', 5], \n",
    "['OVER', 'over', 4], ['THE', 'the', 3], ['LAZY', 'lazy', \n",
    "4], ['DOG', 'dog', 3]] (the list containing a list for every word of list \n",
    "words, where each list contains the word in uppercase and lowercase and the \n",
    "length of the word.)"
   ]
  },
  {
   "cell_type": "code",
   "execution_count": 13,
   "id": "ce6047d7",
   "metadata": {},
   "outputs": [
    {
     "name": "stdout",
     "output_type": "stream",
     "text": [
      "[['The', 'THE', 3], ['quick', 'QUICK', 5], ['brown', 'BROWN', 5], ['fox', 'FOX', 3], ['jumps', 'JUMPS', 5], ['over', 'OVER', 4], ['the', 'THE', 3], ['lazy', 'LAZY', 4], ['dog', 'DOG', 3]]\n"
     ]
    }
   ],
   "source": [
    "words = ['The', 'quick', 'brown', 'fox', 'jumps', 'over','the', 'lazy', 'dog']\n",
    "\n",
    "answer = [ [word, word.upper(), len(word)] for word in words ]\n",
    "print(answer)"
   ]
  },
  {
   "cell_type": "markdown",
   "id": "d43e5309",
   "metadata": {},
   "source": [
    "e) ['The', 'quick', 'brown', 'fox', 'jumps', 'over', 'the', \n",
    "'lazy', 'dog'] (the list of words in list words containing 4 or more \n",
    "characters."
   ]
  },
  {
   "cell_type": "code",
   "execution_count": 14,
   "id": "9c6f7767",
   "metadata": {},
   "outputs": [
    {
     "name": "stdout",
     "output_type": "stream",
     "text": [
      "['quick', 'brown', 'jumps', 'over', 'lazy']\n"
     ]
    }
   ],
   "source": [
    "words = ['The', 'quick', 'brown', 'fox', 'jumps', 'over','the', 'lazy', 'dog']\n",
    "\n",
    "answer = [ word for word in words if len(word) >= 4 ]\n",
    "print(answer)"
   ]
  }
 ],
 "metadata": {
  "kernelspec": {
   "display_name": "Python 3 (ipykernel)",
   "language": "python",
   "name": "python3"
  },
  "language_info": {
   "codemirror_mode": {
    "name": "ipython",
    "version": 3
   },
   "file_extension": ".py",
   "mimetype": "text/x-python",
   "name": "python",
   "nbconvert_exporter": "python",
   "pygments_lexer": "ipython3",
   "version": "3.9.7"
  }
 },
 "nbformat": 4,
 "nbformat_minor": 5
}
